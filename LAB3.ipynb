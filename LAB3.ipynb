{
  "nbformat": 4,
  "nbformat_minor": 0,
  "metadata": {
    "colab": {
      "provenance": [],
      "authorship_tag": "ABX9TyOkcP/65Q61UwD8iYb+TXYu",
      "include_colab_link": true
    },
    "kernelspec": {
      "name": "python3",
      "display_name": "Python 3"
    },
    "language_info": {
      "name": "python"
    }
  },
  "cells": [
    {
      "cell_type": "markdown",
      "metadata": {
        "id": "view-in-github",
        "colab_type": "text"
      },
      "source": [
        "<a href=\"https://colab.research.google.com/github/Rakesh1742/2303A51742/blob/main/LAB3.ipynb\" target=\"_parent\"><img src=\"https://colab.research.google.com/assets/colab-badge.svg\" alt=\"Open In Colab\"/></a>"
      ]
    },
    {
      "cell_type": "code",
      "execution_count": 1,
      "metadata": {
        "colab": {
          "base_uri": "https://localhost:8080/"
        },
        "id": "r_iQK4yG6NVl",
        "outputId": "630d4aaa-7e4c-434d-cdb1-54cba313fa96"
      },
      "outputs": [
        {
          "output_type": "stream",
          "name": "stdout",
          "text": [
            "Test Scores (4x4):\n",
            " [[88 78 64 92]\n",
            " [57 70 88 68]\n",
            " [72 60 60 73]\n",
            " [85 89 73 52]] \n",
            "\n",
            "Row-wise Means: [80.5  70.75 66.25 74.75]\n",
            "Column-wise Means: [75.5  74.25 71.25 71.25] \n",
            "\n",
            "Standard Deviation: 12.214073593605043\n",
            "Variance: 149.18359375 \n",
            "\n",
            "Global Max: 92 at index (np.int64(0), np.int64(3))\n",
            "Global Min: 52 at index (np.int64(3), np.int64(3)) \n",
            "\n",
            "---- Summary of Insights ----\n",
            "Average test score per student (row-wise): [80.5  70.75 66.25 74.75]\n",
            "Average test score per subject (col-wise): [75.5  74.25 71.25 71.25]\n",
            "Overall standard deviation: 12.21\n",
            "Overall variance: 149.18\n",
            "Highest score: 92 at (np.int64(0), np.int64(3))\n",
            "Lowest score: 52 at (np.int64(3), np.int64(3))\n"
          ]
        }
      ],
      "source": [
        "import numpy as np\n",
        "\n",
        "# 1. Generate a 2D array (4x4) with test scores (random between 50–100)\n",
        "np.random.seed(42)  # For reproducibility\n",
        "scores = np.random.randint(50, 101, size=(4, 4))\n",
        "print(\"Test Scores (4x4):\\n\", scores, \"\\n\")\n",
        "\n",
        "# 2. Row-wise and Column-wise Means\n",
        "row_means = np.mean(scores, axis=1)\n",
        "col_means = np.mean(scores, axis=0)\n",
        "print(\"Row-wise Means:\", row_means)\n",
        "print(\"Column-wise Means:\", col_means, \"\\n\")\n",
        "\n",
        "# 3. Standard Deviation and Variance (global)\n",
        "std_dev = np.std(scores)\n",
        "variance = np.var(scores)\n",
        "print(\"Standard Deviation:\", std_dev)\n",
        "print(\"Variance:\", variance, \"\\n\")\n",
        "\n",
        "# 4. Global Max and Min with Indices\n",
        "global_max = np.max(scores)\n",
        "global_min = np.min(scores)\n",
        "max_index = np.unravel_index(np.argmax(scores), scores.shape)\n",
        "min_index = np.unravel_index(np.argmin(scores), scores.shape)\n",
        "print(\"Global Max:\", global_max, \"at index\", max_index)\n",
        "print(\"Global Min:\", global_min, \"at index\", min_index, \"\\n\")\n",
        "\n",
        "# 5. Summary Insights\n",
        "print(\"---- Summary of Insights ----\")\n",
        "print(f\"Average test score per student (row-wise): {row_means}\")\n",
        "print(f\"Average test score per subject (col-wise): {col_means}\")\n",
        "print(f\"Overall standard deviation: {std_dev:.2f}\")\n",
        "print(f\"Overall variance: {variance:.2f}\")\n",
        "print(f\"Highest score: {global_max} at {max_index}\")\n",
        "print(f\"Lowest score: {global_min} at {min_index}\")\n"
      ]
    },
    {
      "cell_type": "code",
      "source": [
        "import numpy as np\n",
        "import matplotlib.pyplot as plt\n",
        "\n",
        "# 1. Create a 3x3x3 RGB image (values between 0-255)\n",
        "np.random.seed(42)  # reproducibility\n",
        "image = np.random.randint(0, 256, size=(3, 3, 3), dtype=np.uint8)\n",
        "print(\"Original 3D Image Array:\\n\", image, \"\\n\")\n",
        "\n",
        "# 2. Extract color channels\n",
        "red_channel = image[:, :, 0]\n",
        "green_channel = image[:, :, 1]\n",
        "blue_channel = image[:, :, 2]\n",
        "\n",
        "print(\"Red Channel:\\n\", red_channel, \"\\n\")\n",
        "print(\"Green Channel:\\n\", green_channel, \"\\n\")\n",
        "print(\"Blue Channel:\\n\", blue_channel, \"\\n\")\n",
        "\n",
        "# 3. Compute average pixel intensity per channel\n",
        "red_avg = np.mean(red_channel)\n",
        "green_avg = np.mean(green_channel)\n",
        "blue_avg = np.mean(blue_channel)\n",
        "print(\"Average Intensities -> Red:\", red_avg, \", Green:\", green_avg, \", Blue:\", blue_avg, \"\\n\")\n",
        "\n",
        "# 4. Brighten the image by adding a scalar (clip at 255)\n",
        "brightened_image = np.clip(image + 50, 0, 255)  # add 50 to all pixels\n",
        "print(\"Brightened Image Array:\\n\", brightened_image, \"\\n\")\n",
        "\n",
        "# 5. Visualization (matplotlib to show each channel + original/brightened)\n",
        "fig, axs = plt.subplots(1, 5, figsize=(15, 3))\n",
        "\n",
        "axs[0].imshow(image)\n",
        "axs[0].set_title(\"Original Image\")\n",
        "axs[0].axis(\"off\")\n",
        "\n",
        "axs[1].imshow(red_channel, cmap=\"Reds\")\n",
        "axs[1].set_title(\"Red Channel\")\n",
        "axs[1].axis(\"off\")\n",
        "\n",
        "axs[2].imshow(green_channel, cmap=\"Greens\")\n",
        "axs[2].set_title(\"Green Channel\")\n",
        "axs[2].axis(\"off\")\n",
        "\n",
        "axs[3].imshow(blue_channel, cmap=\"Blues\")\n",
        "axs[3].set_title(\"Blue Channel\")\n",
        "axs[3].axis(\"off\")\n",
        "\n",
        "axs[4].imshow(brightened_image)\n",
        "axs[4].set_title(\"Brightened Image\")\n",
        "axs[4].axis(\"off\")\n",
        "\n",
        "plt.show()\n"
      ],
      "metadata": {
        "colab": {
          "base_uri": "https://localhost:8080/",
          "height": 998
        },
        "id": "EgHxC_Hw8X95",
        "outputId": "eb905b28-aada-411a-c564-0a209533b43a"
      },
      "execution_count": 2,
      "outputs": [
        {
          "output_type": "stream",
          "name": "stdout",
          "text": [
            "Original 3D Image Array:\n",
            " [[[102 220 225]\n",
            "  [ 95 179  61]\n",
            "  [234 203  92]]\n",
            "\n",
            " [[  3  98 243]\n",
            "  [ 14 149 245]\n",
            "  [ 46 106 244]]\n",
            "\n",
            " [[ 99 187  71]\n",
            "  [212 153 199]\n",
            "  [188 174  65]]] \n",
            "\n",
            "Red Channel:\n",
            " [[102  95 234]\n",
            " [  3  14  46]\n",
            " [ 99 212 188]] \n",
            "\n",
            "Green Channel:\n",
            " [[220 179 203]\n",
            " [ 98 149 106]\n",
            " [187 153 174]] \n",
            "\n",
            "Blue Channel:\n",
            " [[225  61  92]\n",
            " [243 245 244]\n",
            " [ 71 199  65]] \n",
            "\n",
            "Average Intensities -> Red: 110.33333333333333 , Green: 163.22222222222223 , Blue: 160.55555555555554 \n",
            "\n",
            "Brightened Image Array:\n",
            " [[[152  14  19]\n",
            "  [145 229 111]\n",
            "  [ 28 253 142]]\n",
            "\n",
            " [[ 53 148  37]\n",
            "  [ 64 199  39]\n",
            "  [ 96 156  38]]\n",
            "\n",
            " [[149 237 121]\n",
            "  [  6 203 249]\n",
            "  [238 224 115]]] \n",
            "\n"
          ]
        },
        {
          "output_type": "display_data",
          "data": {
            "text/plain": [
              "<Figure size 1500x300 with 5 Axes>"
            ],
            "image/png": "[encoded data removed]"
          },
          "metadata": {}
        }
      ]
    }
  ]
}