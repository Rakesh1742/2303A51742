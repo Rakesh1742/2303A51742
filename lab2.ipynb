{
  "nbformat": 4,
  "nbformat_minor": 0,
  "metadata": {
    "colab": {
      "provenance": [],
      "authorship_tag": "ABX9TyMDLqKG2azJ5oAd/YEH7XuT",
      "include_colab_link": true
    },
    "kernelspec": {
      "name": "python3",
      "display_name": "Python 3"
    },
    "language_info": {
      "name": "python"
    }
  },
  "cells": [
    {
      "cell_type": "markdown",
      "metadata": {
        "id": "view-in-github",
        "colab_type": "text"
      },
      "source": [
        "<a href=\"https://colab.research.google.com/github/Rakesh1742/2303A51742/blob/main/lab2.ipynb\" target=\"_parent\"><img src=\"https://colab.research.google.com/assets/colab-badge.svg\" alt=\"Open In Colab\"/></a>"
      ]
    },
    {
      "cell_type": "code",
      "execution_count": null,
      "metadata": {
        "id": "Z_kdFWgg3--a"
      },
      "outputs": [],
      "source": [
        "import numpy as np"
      ]
    },
    {
      "cell_type": "code",
      "source": [
        "temps_celsius = np.array([14.2, 15.8, 19.1, 22.5, 26.3, 29.4, 31.0, 30.6, 28.1, 24.0, 19.0, 15.2])\n",
        "months = np.array([\"Jan\", \"Feb\", \"Mar\", \"Apr\", \"May\", \"Jun\",\n",
        "                   \"Jul\", \"Aug\", \"Sep\", \"Oct\", \"Nov\", \"Dec\"])\n"
      ],
      "metadata": {
        "id": "vgeOZIHl4gIz"
      },
      "execution_count": null,
      "outputs": []
    },
    {
      "cell_type": "code",
      "source": [
        "avg_temp = np.mean(temps_celsius)\n",
        "hottest_month_index = np.argmax(temps_celsius)\n",
        "coldest_month_index = np.argmin(temps_celsius)\n",
        "\n",
        "print(f\"Average Temperature: {avg_temp:.2f}°C\")\n",
        "print(f\"Hottest Month: {months[hottest_month_index]} ({temps_celsius[hottest_month_index]}°C)\")\n",
        "print(f\"Coldest Month: {months[coldest_month_index]} ({temps_celsius[coldest_month_index]}°C)\")\n"
      ],
      "metadata": {
        "colab": {
          "base_uri": "https://localhost:8080/"
        },
        "id": "8uq5w9IZ5Bzg",
        "outputId": "c4a5b5a0-677d-4f83-babe-dc10868c03af"
      },
      "execution_count": null,
      "outputs": [
        {
          "output_type": "stream",
          "name": "stdout",
          "text": [
            "Average Temperature: 22.93°C\n",
            "Hottest Month: Jul (31.0°C)\n",
            "Coldest Month: Jan (14.2°C)\n"
          ]
        }
      ]
    },
    {
      "cell_type": "code",
      "source": [
        "normalized_temps = (temps_celsius - np.min(temps_celsius)) / (np.max(temps_celsius) - np.min(temps_celsius))\n",
        "print(\"Normalized temperatures:\\n\", normalized_temps)\n"
      ],
      "metadata": {
        "colab": {
          "base_uri": "https://localhost:8080/"
        },
        "id": "1lM4s66H5LXU",
        "outputId": "892f2226-4d45-498c-ef50-f8314c65faf3"
      },
      "execution_count": null,
      "outputs": [
        {
          "output_type": "stream",
          "name": "stdout",
          "text": [
            "Normalized temperatures:\n",
            " [0.         0.0952381  0.29166667 0.49404762 0.7202381  0.9047619\n",
            " 1.         0.97619048 0.82738095 0.58333333 0.28571429 0.05952381]\n"
          ]
        }
      ]
    },
    {
      "cell_type": "code",
      "source": [
        "above_avg = temps_celsius > avg_temp\n",
        "months_above_avg = months[above_avg]\n",
        "\n",
        "print(\"Months above annual average temperature:\")\n",
        "print(months_above_avg)\n"
      ],
      "metadata": {
        "colab": {
          "base_uri": "https://localhost:8080/"
        },
        "id": "nN2fPPgd7DSz",
        "outputId": "e51693dc-3d84-4e65-c350-bb8ea89fd356"
      },
      "execution_count": null,
      "outputs": [
        {
          "output_type": "stream",
          "name": "stdout",
          "text": [
            "Months above annual average temperature:\n",
            "['May' 'Jun' 'Jul' 'Aug' 'Sep' 'Oct']\n"
          ]
        }
      ]
    },
    {
      "cell_type": "code",
      "source": [
        "temps_fahrenheit = temps_celsius * 9/5 + 32\n",
        "print(\"Temperatures in Fahrenheit:\\n\", temps_fahrenheit)\n"
      ],
      "metadata": {
        "colab": {
          "base_uri": "https://localhost:8080/"
        },
        "id": "LgD1xnnz7G0-",
        "outputId": "ff780581-8c80-4b79-a474-6abbedfe13e0"
      },
      "execution_count": null,
      "outputs": [
        {
          "output_type": "stream",
          "name": "stdout",
          "text": [
            "Temperatures in Fahrenheit:\n",
            " [57.56 60.44 66.38 72.5  79.34 84.92 87.8  87.08 82.58 75.2  66.2  59.36]\n"
          ]
        }
      ]
    },
    {
      "cell_type": "code",
      "source": [
        "import pandas as pd\n",
        "\n",
        "# Sample data\n",
        "data = {\n",
        "    'Order ID': [101, 102, 103, 104, 105, 106, 107],\n",
        "    'Product': ['Laptop', 'Mouse', 'Keyboard', 'Monitor', 'Laptop', 'Mouse', 'Monitor'],\n",
        "    'Quantity': [1, 5, 3, 2, 2, 10, 1],\n",
        "    'Price': [80000, 400, 1200, 15000, 80000, 400, 15000]\n",
        "}\n",
        "\n",
        "df = pd.DataFrame(data)\n",
        "print(\"Original Data:\")\n",
        "print(df)\n"
      ],
      "metadata": {
        "colab": {
          "base_uri": "https://localhost:8080/"
        },
        "id": "J3uNdl-U8zlO",
        "outputId": "04950d04-4385-41c0-d96a-a2ccf4dda087"
      },
      "execution_count": null,
      "outputs": [
        {
          "output_type": "stream",
          "name": "stdout",
          "text": [
            "Original Data:\n",
            "   Order ID   Product  Quantity  Price\n",
            "0       101    Laptop         1  80000\n",
            "1       102     Mouse         5    400\n",
            "2       103  Keyboard         3   1200\n",
            "3       104   Monitor         2  15000\n",
            "4       105    Laptop         2  80000\n",
            "5       106     Mouse        10    400\n",
            "6       107   Monitor         1  15000\n"
          ]
        }
      ]
    },
    {
      "cell_type": "code",
      "source": [
        "df['Total Sale'] = df['Quantity'] * df['Price']\n",
        "print(\"\\nWith Total Sale:\")\n",
        "print(df)\n"
      ],
      "metadata": {
        "colab": {
          "base_uri": "https://localhost:8080/"
        },
        "id": "6PC9-63P9MPN",
        "outputId": "187d57c9-37ac-4224-cfe6-83603d0ac681"
      },
      "execution_count": null,
      "outputs": [
        {
          "output_type": "stream",
          "name": "stdout",
          "text": [
            "\n",
            "With Total Sale:\n",
            "   Order ID   Product  Quantity  Price  Total Sale\n",
            "0       101    Laptop         1  80000       80000\n",
            "1       102     Mouse         5    400        2000\n",
            "2       103  Keyboard         3   1200        3600\n",
            "3       104   Monitor         2  15000       30000\n",
            "4       105    Laptop         2  80000      160000\n",
            "5       106     Mouse        10    400        4000\n",
            "6       107   Monitor         1  15000       15000\n"
          ]
        }
      ]
    },
    {
      "cell_type": "code",
      "source": [
        "high_value_orders = df[df['Total Sale'] > 1000]\n",
        "print(\"\\nOrders with Total Sale > 1000:\")\n",
        "print(high_value_orders)\n"
      ],
      "metadata": {
        "colab": {
          "base_uri": "https://localhost:8080/"
        },
        "id": "qvJdRxxH9RN6",
        "outputId": "0784bb91-075e-44a9-8325-d18816ae75fc"
      },
      "execution_count": null,
      "outputs": [
        {
          "output_type": "stream",
          "name": "stdout",
          "text": [
            "\n",
            "Orders with Total Sale > 1000:\n",
            "   Order ID   Product  Quantity  Price  Total Sale\n",
            "0       101    Laptop         1  80000       80000\n",
            "1       102     Mouse         5    400        2000\n",
            "2       103  Keyboard         3   1200        3600\n",
            "3       104   Monitor         2  15000       30000\n",
            "4       105    Laptop         2  80000      160000\n",
            "5       106     Mouse        10    400        4000\n",
            "6       107   Monitor         1  15000       15000\n"
          ]
        }
      ]
    },
    {
      "cell_type": "code",
      "source": [
        "product_sales = df.groupby('Product')['Quantity'].sum().sort_values(ascending=False)\n",
        "most_sold_product = product_sales.idxmax()\n",
        "\n",
        "print(\"\\nProduct-wise Quantity Sold:\")\n",
        "print(product_sales)\n",
        "\n",
        "print(f\"\\nMost Sold Product: {most_sold_product}\")\n"
      ],
      "metadata": {
        "colab": {
          "base_uri": "https://localhost:8080/"
        },
        "id": "Y9VChseB9UaM",
        "outputId": "484098b3-a826-43da-de46-474e13ef9f65"
      },
      "execution_count": null,
      "outputs": [
        {
          "output_type": "stream",
          "name": "stdout",
          "text": [
            "\n",
            "Product-wise Quantity Sold:\n",
            "Product\n",
            "Mouse       15\n",
            "Keyboard     3\n",
            "Laptop       3\n",
            "Monitor      3\n",
            "Name: Quantity, dtype: int64\n",
            "\n",
            "Most Sold Product: Mouse\n"
          ]
        }
      ]
    },
    {
      "cell_type": "code",
      "source": [
        "def discount_rule(sale):\n",
        "    if sale > 50000:\n",
        "        return 5000\n",
        "    elif sale > 10000:\n",
        "        return 1000\n",
        "    elif sale > 5000:\n",
        "        return 500\n",
        "    else:\n",
        "        return 0\n",
        "\n",
        "df['Discount'] = df['Total Sale'].apply(discount_rule)\n",
        "print(\"\\nWith Discount Column:\")\n",
        "print(df)\n"
      ],
      "metadata": {
        "colab": {
          "base_uri": "https://localhost:8080/"
        },
        "id": "aHvg2Ur09X6S",
        "outputId": "693c54da-82f4-4ebf-af9d-ee9a1cf99c7f"
      },
      "execution_count": null,
      "outputs": [
        {
          "output_type": "stream",
          "name": "stdout",
          "text": [
            "\n",
            "With Discount Column:\n",
            "   Order ID   Product  Quantity  Price  Total Sale  Discount\n",
            "0       101    Laptop         1  80000       80000      5000\n",
            "1       102     Mouse         5    400        2000         0\n",
            "2       103  Keyboard         3   1200        3600         0\n",
            "3       104   Monitor         2  15000       30000      1000\n",
            "4       105    Laptop         2  80000      160000      5000\n",
            "5       106     Mouse        10    400        4000         0\n",
            "6       107   Monitor         1  15000       15000      1000\n"
          ]
        }
      ]
    },
    {
      "cell_type": "code",
      "source": [
        "# Export to Excel file\n",
        "df.to_excel(\"sales_summary.xlsx\", index=False)\n",
        "print(\"\\nExported to 'sales_summary.xlsx'\")\n"
      ],
      "metadata": {
        "colab": {
          "base_uri": "https://localhost:8080/"
        },
        "id": "skCfiIcu9bYm",
        "outputId": "57130de3-24f0-42db-c16e-96875306b298"
      },
      "execution_count": null,
      "outputs": [
        {
          "output_type": "stream",
          "name": "stdout",
          "text": [
            "\n",
            "Exported to 'sales_summary.xlsx'\n"
          ]
        }
      ]
    },
    {
      "cell_type": "code",
      "source": [
        "\n"
      ],
      "metadata": {
        "id": "KeMJ_PEI-YgT"
      },
      "execution_count": null,
      "outputs": []
    }
  ]
}